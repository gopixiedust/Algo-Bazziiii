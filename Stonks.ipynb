{
  "nbformat": 4,
  "nbformat_minor": 0,
  "metadata": {
    "colab": {
      "name": "Stonks.ipynb",
      "provenance": [],
      "collapsed_sections": [],
      "include_colab_link": true
    },
    "kernelspec": {
      "name": "python3",
      "display_name": "Python 3"
    },
    "language_info": {
      "name": "python"
    }
  },
  "cells": [
    {
      "cell_type": "markdown",
      "metadata": {
        "id": "view-in-github",
        "colab_type": "text"
      },
      "source": [
        "<a href=\"https://colab.research.google.com/github/gopixiedust/Algo-Bazziiii/blob/main/Stonks.ipynb\" target=\"_parent\"><img src=\"https://colab.research.google.com/assets/colab-badge.svg\" alt=\"Open In Colab\"/></a>"
      ]
    },
    {
      "cell_type": "code",
      "metadata": {
        "colab": {
          "base_uri": "https://localhost:8080/"
        },
        "id": "I9cey63VYg1w",
        "outputId": "7d63266e-8147-43cc-fe19-e2c56c617069"
      },
      "source": [
        "% pip install jugaad-data"
      ],
      "execution_count": null,
      "outputs": [
        {
          "output_type": "stream",
          "text": [
            "Collecting jugaad-data\n",
            "  Downloading jugaad_data-0.23-py3-none-any.whl (26 kB)\n",
            "Requirement already satisfied: click==7.1.2 in /usr/local/lib/python3.7/dist-packages (from jugaad-data) (7.1.2)\n",
            "Requirement already satisfied: appdirs==1.4.4 in /usr/local/lib/python3.7/dist-packages (from jugaad-data) (1.4.4)\n",
            "Collecting beautifulsoup4==4.9.3\n",
            "  Downloading beautifulsoup4-4.9.3-py3-none-any.whl (115 kB)\n",
            "\u001b[K     |████████████████████████████████| 115 kB 6.3 MB/s \n",
            "\u001b[?25hRequirement already satisfied: requests in /usr/local/lib/python3.7/dist-packages (from jugaad-data) (2.23.0)\n",
            "Collecting soupsieve>1.2\n",
            "  Downloading soupsieve-2.2.1-py3-none-any.whl (33 kB)\n",
            "Requirement already satisfied: certifi>=2017.4.17 in /usr/local/lib/python3.7/dist-packages (from requests->jugaad-data) (2021.5.30)\n",
            "Requirement already satisfied: chardet<4,>=3.0.2 in /usr/local/lib/python3.7/dist-packages (from requests->jugaad-data) (3.0.4)\n",
            "Requirement already satisfied: urllib3!=1.25.0,!=1.25.1,<1.26,>=1.21.1 in /usr/local/lib/python3.7/dist-packages (from requests->jugaad-data) (1.24.3)\n",
            "Requirement already satisfied: idna<3,>=2.5 in /usr/local/lib/python3.7/dist-packages (from requests->jugaad-data) (2.10)\n",
            "Installing collected packages: soupsieve, beautifulsoup4, jugaad-data\n",
            "  Attempting uninstall: beautifulsoup4\n",
            "    Found existing installation: beautifulsoup4 4.6.3\n",
            "    Uninstalling beautifulsoup4-4.6.3:\n",
            "      Successfully uninstalled beautifulsoup4-4.6.3\n",
            "Successfully installed beautifulsoup4-4.9.3 jugaad-data-0.23 soupsieve-2.2.1\n"
          ],
          "name": "stdout"
        }
      ]
    },
    {
      "cell_type": "code",
      "metadata": {
        "id": "GQcAaJdEbjPB"
      },
      "source": [
        "returnVal=0"
      ],
      "execution_count": null,
      "outputs": []
    },
    {
      "cell_type": "code",
      "metadata": {
        "colab": {
          "base_uri": "https://localhost:8080/"
        },
        "id": "jJyd9nGNY0xW",
        "outputId": "c82c2227-6c4c-4d05-abe2-0aa18385d04a"
      },
      "source": [
        "from datetime import  date,timedelta\n",
        "from jugaad_data.nse import  stock_df\n",
        "\n",
        "# Download as pandas dataframe\n",
        "df = stock_df(symbol=\"infy\", from_date=date.today()-timedelta(days=200),\n",
        "            to_date=date.today(), series=\"EQ\")\n",
        "# df.head(10)\n",
        "df.drop(['SERIES', \n",
        "       'VWAP', '52W H', '52W L', 'VOLUME', 'VALUE', 'NO OF TRADES', 'SYMBOL'],inplace=True,axis=1)\n",
        "df=df[::-1]\n",
        "# df=df[0:101]\n",
        "# df=df.reset_index()\n",
        "df=df.reset_index()\n",
        "print(df.tail(10))\n"
      ],
      "execution_count": null,
      "outputs": [
        {
          "output_type": "stream",
          "text": [
            "     index       DATE     OPEN     HIGH      LOW  PREV. CLOSE      LTP    CLOSE\n",
            "126      9 2021-08-04  1669.10  1679.90  1639.05      1655.20  1648.55  1649.25\n",
            "127      8 2021-08-05  1649.50  1666.00  1647.05      1649.25  1652.00  1653.55\n",
            "128      7 2021-08-06  1657.00  1660.65  1644.00      1653.55  1652.10  1650.20\n",
            "129      6 2021-08-09  1661.00  1667.45  1646.40      1650.20  1664.40  1663.30\n",
            "130      5 2021-08-10  1668.00  1680.00  1661.05      1663.30  1674.15  1677.25\n",
            "131      4 2021-08-11  1674.80  1684.00  1668.00      1677.25  1675.10  1677.55\n",
            "132      3 2021-08-12  1679.15  1696.50  1674.00      1677.55  1684.95  1689.60\n",
            "133      2 2021-08-13  1697.00  1722.50  1691.30      1689.60  1713.95  1712.20\n",
            "134      1 2021-08-16  1707.70  1719.95  1690.10      1712.20  1702.95  1704.40\n",
            "135      0 2021-08-17  1703.90  1748.90  1686.55      1704.40  1737.40  1741.65\n"
          ],
          "name": "stdout"
        }
      ]
    },
    {
      "cell_type": "code",
      "metadata": {
        "id": "RmF0QYyr-tOL"
      },
      "source": [
        "# retreiving and storing data - changed source of data, this one is old\n",
        "import numpy as np\n",
        "import pandas as pd\n",
        "\n",
        "pd.options.display.max_columns = None\n",
        "\n",
        "# import requests\n",
        "\n",
        "# key = 'ZZW44UFCBUQQUQLP'\n",
        "# symbol = 'INFY'\n",
        "\n",
        "# url = f'https://www.alphavantage.co/query?function=TIME_SERIES_DAILY&symbol={symbol}&apikey={key}'\n",
        "# r = requests.get(url)\n",
        "# data = r.json()['Time Series (Daily)']\n",
        "\n",
        "# df = pd.DataFrame(columns = ['Date', 'Open', 'High', 'Low', 'Close'])\n",
        "\n",
        "# for day in data.keys():\n",
        "#   df = df.append({'Date': day, 'Open': data[day]['1. open'], 'High': data[day]['2. high'], 'Low': data[day]['3. low'], 'Close': data[day]['4. close']}, ignore_index=True)\n",
        "# df['Open'] = pd.to_numeric(df['Open'])\n",
        "# df['High'] = pd.to_numeric(df['High'])\n",
        "# df['Low'] = pd.to_numeric(df['Low'])\n",
        "# df['Close'] = pd.to_numeric(df['Close'])\n",
        "\n",
        "# df = df[::-1]\n",
        "# df = df.reset_index()\n",
        "# del df['index']\n",
        "\n",
        "# df"
      ],
      "execution_count": null,
      "outputs": []
    },
    {
      "cell_type": "code",
      "metadata": {
        "colab": {
          "base_uri": "https://localhost:8080/"
        },
        "id": "CCnukV6_Gsx7",
        "outputId": "518ddd22-bc67-4632-a5d4-a673136037e2"
      },
      "source": [
        "# calculating EMAs - works\n",
        "emadf = pd.DataFrame({'CLOSE':df['CLOSE']})\n",
        "\n",
        "emadf['EMA100'] = emadf['CLOSE'].ewm(span=100, min_periods=0, adjust=True).mean()\n",
        "emadf['EMA50'] = emadf['CLOSE'].ewm(span=50, min_periods=0, adjust=True).mean()\n",
        "\n",
        "ema100 = emadf['EMA100'].iloc[-1]\n",
        "ema50 = emadf['EMA50'].iloc[-1]\n",
        "\n",
        "if (ema50>ema100):\n",
        "  returnVal+=1\n",
        "\n",
        "print(returnVal)\n",
        "print('ema100: ', ema100)\n",
        "print('ema50: ', ema50)"
      ],
      "execution_count": null,
      "outputs": [
        {
          "output_type": "stream",
          "text": [
            "1\n",
            "ema100:  1516.3826396130492\n",
            "ema50:  1579.678925676566\n"
          ],
          "name": "stdout"
        }
      ]
    },
    {
      "cell_type": "code",
      "metadata": {
        "colab": {
          "base_uri": "https://localhost:8080/"
        },
        "id": "EYGm8f2wq_pK",
        "outputId": "14d00108-d058-4745-f1f8-4b9d98547366"
      },
      "source": [
        "# calculating RSI - works\n",
        "rsidf = pd.DataFrame({'CLOSE':df['CLOSE']})\n",
        "\n",
        "def rma(x, n, y0):\n",
        "    a = (n-1) / n\n",
        "    ak = a**np.arange(len(x)-1, -1, -1)\n",
        "    return np.r_[np.full(n, np.nan), y0, np.cumsum(ak * x) / ak / n + y0 * a**np.arange(1, len(x)+1)]\n",
        "\n",
        "n=14\n",
        "\n",
        "rsidf['change'] = rsidf['CLOSE'].diff()\n",
        "rsidf['change'][0] = 0\n",
        "rsidf['gain'] = rsidf.change.mask(rsidf.change < 0, 0.0)\n",
        "rsidf['loss'] = -rsidf.change.mask(rsidf.change > 0, -0.0)\n",
        "rsidf['avg_gain'] = rma(rsidf.gain[n+1:].to_numpy(), n, np.nansum(rsidf.gain.to_numpy()[:n+1])/n)\n",
        "rsidf['avg_loss'] = rma(rsidf.loss[n+1:].to_numpy(), n, np.nansum(rsidf.loss.to_numpy()[:n+1])/n)\n",
        "rsidf['rs'] = rsidf.avg_gain / rsidf.avg_loss\n",
        "rsidf['rsi_14'] = 100 - (100 / (1 + rsidf.rs))\n",
        "\n",
        "rsi = rsidf['rsi_14'][99]\n",
        "print('rsi: ', rsi)"
      ],
      "execution_count": null,
      "outputs": [
        {
          "output_type": "stream",
          "text": [
            "rsi:  84.41767989507962\n"
          ],
          "name": "stdout"
        }
      ]
    },
    {
      "cell_type": "code",
      "metadata": {
        "colab": {
          "base_uri": "https://localhost:8080/"
        },
        "id": "pKeo3oAR6Z7K",
        "outputId": "e57cd8da-6f31-48c5-fcaf-b089d78116da"
      },
      "source": [
        "# calculating stochastic oscillator - works\n",
        "\n",
        "sodf = pd.DataFrame(df[-14::]) # get latest 14 days\n",
        "\n",
        "c = sodf['CLOSE'].iloc[-1]\n",
        "l = sodf['LOW'].min()\n",
        "h = sodf['HIGH'].max()\n",
        "\n",
        "so = (c-l)/(h-l) * 100\n",
        "\n",
        "print('so: ', so)"
      ],
      "execution_count": null,
      "outputs": [
        {
          "output_type": "stream",
          "text": [
            "so:  95.12768817204301\n"
          ],
          "name": "stdout"
        }
      ]
    },
    {
      "cell_type": "code",
      "metadata": {
        "colab": {
          "base_uri": "https://localhost:8080/"
        },
        "id": "bihxI5ozb4Kd",
        "outputId": "51eabebd-648a-44e7-d6da-4f75419db661"
      },
      "source": [
        "# redundant (?)\n",
        "\n",
        "delta = df['CLOSE'].diff()\n",
        "up = delta.clip(lower=0)\n",
        "down = -1*delta.clip(upper=0)\n",
        "ema_up = up.ewm(com=13, adjust=True).mean()\n",
        "ema_down = down.ewm(com=13, adjust=True).mean()\n",
        "rs = ema_up/ema_down\n",
        "\n",
        "df['RSI'] = 100 - (100/(1 + rs))\n",
        "df.RSI"
      ],
      "execution_count": null,
      "outputs": [
        {
          "output_type": "execute_result",
          "data": {
            "text/plain": [
              "0             NaN\n",
              "1      100.000000\n",
              "2      100.000000\n",
              "3      100.000000\n",
              "4       87.998576\n",
              "          ...    \n",
              "131     76.095725\n",
              "132     77.988354\n",
              "133     81.023093\n",
              "134     77.073565\n",
              "135     81.669104\n",
              "Name: RSI, Length: 136, dtype: float64"
            ]
          },
          "metadata": {
            "tags": []
          },
          "execution_count": 16
        }
      ]
    },
    {
      "cell_type": "code",
      "metadata": {
        "colab": {
          "base_uri": "https://localhost:8080/"
        },
        "id": "sreXk3Yfbqf2",
        "outputId": "b1fe0649-d02e-4486-9bc7-3ba280c128af"
      },
      "source": [
        "if (ema50>ema100):\n",
        "  returnVal+=1\n",
        "if (rsi<30):\n",
        "  returnVal+=1\n",
        "if (so<20):\n",
        "  returnVal+=1\n",
        "print(returnVal);"
      ],
      "execution_count": null,
      "outputs": [
        {
          "output_type": "stream",
          "text": [
            "4\n"
          ],
          "name": "stdout"
        }
      ]
    }
  ]
}